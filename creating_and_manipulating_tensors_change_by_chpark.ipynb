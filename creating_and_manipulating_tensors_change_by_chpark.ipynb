{
  "nbformat": 4,
  "nbformat_minor": 0,
  "metadata": {
    "colab": {
      "name": "creating_and_manipulating_tensors.ipynb",
      "provenance": [],
      "collapsed_sections": [
        "JndnmDMp66FL",
        "EYzU56M4MG_x",
        "Kt7aojXkR_qS"
      ],
      "toc_visible": true,
      "include_colab_link": true
    },
    "kernelspec": {
      "name": "python3",
      "display_name": "Python 3"
    }
  },
  "cells": [
    {
      "cell_type": "markdown",
      "metadata": {
        "id": "view-in-github",
        "colab_type": "text"
      },
      "source": [
        "<a href=\"https://colab.research.google.com/github/thilnizz/ML_exercise/blob/master/creating_and_manipulating_tensors_change_by_chpark.ipynb\" target=\"_parent\"><img src=\"https://colab.research.google.com/assets/colab-badge.svg\" alt=\"Open In Colab\"/></a>"
      ]
    },
    {
      "cell_type": "markdown",
      "metadata": {
        "colab_type": "text",
        "id": "JndnmDMp66FL"
      },
      "source": [
        "#### Copyright 2017 Google LLC."
      ]
    },
    {
      "cell_type": "code",
      "metadata": {
        "colab_type": "code",
        "id": "hMqWDc_m6rUC",
        "cellView": "both",
        "colab": {}
      },
      "source": [
        "# Licensed under the Apache License, Version 2.0 (the \"License\");\n",
        "# you may not use this file except in compliance with the License.\n",
        "# You may obtain a copy of the License at\n",
        "#\n",
        "# https://www.apache.org/licenses/LICENSE-2.0\n",
        "#\n",
        "# Unless required by applicable law or agreed to in writing, software\n",
        "# distributed under the License is distributed on an \"AS IS\" BASIS,\n",
        "# WITHOUT WARRANTIES OR CONDITIONS OF ANY KIND, either express or implied.\n",
        "# See the License for the specific language governing permissions and\n",
        "# limitations under the License."
      ],
      "execution_count": null,
      "outputs": []
    },
    {
      "cell_type": "markdown",
      "metadata": {
        "colab_type": "text",
        "id": "P0bQXjp499sl"
      },
      "source": [
        " # 텐서 만들기 및 조작"
      ]
    },
    {
      "cell_type": "markdown",
      "metadata": {
        "colab_type": "text",
        "id": "I3BCiWJiCGsv"
      },
      "source": [
        " **학습 목표:**\n",
        "  * 텐서플로우 `변수` 초기화 및 할당\n",
        "  * 텐서 만들기 및 조작\n",
        "  * 선형대수학의 덧셈 및 곱셈 지식 되살리기(이 주제가 생소한 경우 행렬 [덧셈](https://en.wikipedia.org/wiki/Matrix_addition) 및 [곱셈](https://en.wikipedia.org/wiki/Matrix_multiplication) 참조)\n",
        "  * 기본 텐서플로우 수학 및 배열 작업에 익숙해지기"
      ]
    },
    {
      "cell_type": "code",
      "metadata": {
        "colab_type": "code",
        "id": "85evKRsOIC5a",
        "colab": {}
      },
      "source": [
        "from __future__ import print_function\n",
        "\n",
        "import tensorflow as tf"
      ],
      "execution_count": 1,
      "outputs": []
    },
    {
      "cell_type": "markdown",
      "metadata": {
        "colab_type": "text",
        "id": "PT1sorfH-DdQ"
      },
      "source": [
        " ## 벡터 덧셈\n",
        "\n",
        "텐서에서 여러 일반적인 수학 연산을 할 수 있습니다([TF API](https://www.tensorflow.org/api_guides/python/math_ops)). 다음 코드는\n",
        "각기 정확히 6개 요소를 가지는 두 벡터(1-D 텐서)를 만들고 조작합니다."
      ]
    },
    {
      "cell_type": "code",
      "metadata": {
        "colab_type": "code",
        "id": "ng37e6ur-GZo",
        "colab": {
          "base_uri": "https://localhost:8080/",
          "height": 35
        },
        "outputId": "5c2dc185-653b-4418-c445-823d1575b0e3"
      },
      "source": [
        "with tf.Graph().as_default():\n",
        "  primes = tf.constant([2, 3, 5, 7, 11, 13], dtype=tf.int32)\n",
        "  ones = tf.ones([6], dtype=tf.int32)\n",
        "  just_beyond_primes = tf.add(primes, ones)\n",
        "\n",
        "  with tf.compat.v1.Session() as sess:\n",
        "    print(just_beyond_primes.eval())"
      ],
      "execution_count": 4,
      "outputs": [
        {
          "output_type": "stream",
          "text": [
            "[ 3  4  6  8 12 14]\n"
          ],
          "name": "stdout"
        }
      ]
    },
    {
      "cell_type": "markdown",
      "metadata": {
        "colab_type": "text",
        "id": "fVvaXzzMGZid"
      },
      "source": [
        " ### 텐서 형태\n",
        "\n",
        "형태는 텐서의 크기와 차원 수를 결정하는 데 사용됩니다. 텐서 형태는 `목록`으로 표현하며, `i`번째 요소는 `i` 차원에서 크기를 나타냅니다. 그리고 이 목록의 길이는 텐서의 순위(예: 차원 수)를 나타냅니다.\n",
        "\n",
        "자세한 정보는 [텐서플로우 문서](https://www.tensorflow.org/programmers_guide/tensors#shape)를 참조하세요.\n",
        "\n",
        "몇 가지 기본 예:"
      ]
    },
    {
      "cell_type": "code",
      "metadata": {
        "colab_type": "code",
        "id": "PWzvJnIAH_cF",
        "colab": {
          "base_uri": "https://localhost:8080/",
          "height": 143
        },
        "outputId": "3d61e8c7-fa52-4bc1-cc6d-5b4910427f21"
      },
      "source": [
        "with tf.Graph().as_default():\n",
        "  scalar = tf.zeros([])\n",
        "  vector = tf.zeros([3])\n",
        "  matrix = tf.zeros([2,3])\n",
        "\n",
        "  with tf.compat.v1.Session() as sess:\n",
        "    print('scalar has shape', scalar.get_shape(), 'and value:\\n', scalar.eval())\n",
        "    print('vector has shape', vector.get_shape(), 'and value:\\n', vector.eval())\n",
        "    print('matrix has shape', matrix.get_shape(), 'and value:\\n', matrix.eval())"
      ],
      "execution_count": 5,
      "outputs": [
        {
          "output_type": "stream",
          "text": [
            "scalar has shape () and value:\n",
            " 0.0\n",
            "vector has shape (3,) and value:\n",
            " [0. 0. 0.]\n",
            "matrix has shape (2, 3) and value:\n",
            " [[0. 0. 0.]\n",
            " [0. 0. 0.]]\n"
          ],
          "name": "stdout"
        }
      ]
    },
    {
      "cell_type": "markdown",
      "metadata": {
        "colab_type": "text",
        "id": "musamrLavR5S"
      },
      "source": [
        " ### 브로드캐스팅\n",
        "\n",
        "수학에서는 같은 형태의 텐서에서 요소간 연산(예: *add* 및 *equals*)만 실행할 수 있습니다. 하지만 텐서플로우에서는 텐서에서 기존에는 호환되지 않았던 연산을 실행할 수 있습니다. 텐서플로우는 요소간 연산에서 더 작은 배열을 확장하여 더 큰 배열과 같은 형태를 가지게 하는 **브로드캐스팅**(Numpy에서 차용한 개념)을 지원합니다. 예를 들어 브로드캐스팅을 통해 다음과 같은 결과를 얻을 수 있습니다.\n",
        "\n",
        "* 피연산자에 크기가 `[6]`인 텐서가 필요한 경우 크기가 `[1]` 또는 크기가 `[]`인 텐서가 피연산자가 될 수 있습니다.\n",
        "* 연산에 크기가 `[4, 6]`인 텐서가 필요한 경우 다음 크기의 텐서가 피연산자가 될 수 있습니다.\n",
        "  * `[1, 6]`\n",
        "  * `[6]`\n",
        "  * `[]`\n",
        "* 연산에 크기가 `[3, 5, 6]`인 텐서가 필요한 경우 다음 크기의 텐서가 피연산자가 될 수 있습니다.\n",
        "\n",
        "  * `[1, 5, 6]`\n",
        "  * `[3, 1, 6]`\n",
        "  * `[3, 5, 1]`\n",
        "  * `[1, 1, 1]`\n",
        "  * `[5, 6]`\n",
        "  * `[1, 6]`\n",
        "  * `[6]`\n",
        "  * `[1]`\n",
        "  * `[]`\n",
        "  \n",
        "**참고:** 텐서가 브로드캐스팅되면 텐서의 항목은 개념적으로 **복사**됩니다. (성능상의 이유로 실제로 복사되지는 않음. 브로드캐스팅은 성능 최적화를 위해 개발됨.)\n",
        "\n",
        "전체 브로드캐스팅 규칙 세트는 [Numpy 브로드캐스팅 문서](http://docs.scipy.org/doc/numpy-1.10.1/user/basics.broadcasting.html)에 이해하기 쉽게 잘 설명되어 있습니다.\n",
        "\n",
        "다음 코드는 앞서 설명한 텐서 덧셈을 실행하지만 브로드캐스팅을 사용합니다."
      ]
    },
    {
      "cell_type": "code",
      "metadata": {
        "colab_type": "code",
        "id": "7lys_BeLy2SD",
        "colab": {
          "base_uri": "https://localhost:8080/",
          "height": 35
        },
        "outputId": "1943b330-e940-47da-d031-34a59a9b0205"
      },
      "source": [
        "with tf.Graph().as_default():\n",
        "  primes=tf.constant([2,3,5,7,11,13], dtype=tf.int32)\n",
        "  ones=tf.constant(1, dtype=tf.int32)\n",
        "  just_beyond_primes=tf.add(primes, ones)\n",
        "\n",
        "  with tf.compat.v1.Session() as sess:\n",
        "    print(just_beyond_primes.eval())"
      ],
      "execution_count": 6,
      "outputs": [
        {
          "output_type": "stream",
          "text": [
            "[ 3  4  6  8 12 14]\n"
          ],
          "name": "stdout"
        }
      ]
    },
    {
      "cell_type": "markdown",
      "metadata": {
        "colab_type": "text",
        "id": "it0P-AV0-Jb4"
      },
      "source": [
        " ## 행렬 곱셈\n",
        "\n",
        "선형대수학에서 두 개의 행렬을 곱할 때는 첫 번째 행렬의 *열* 수가 두 번째\n",
        "행렬의 *행* 수와 같아야 했습니다.\n",
        "\n",
        "-  `3x4` 행렬과 `4x2` 행렬을 곱하는 것은 **_유효합니다_**. 이렇게 하면 `3x2` 행렬을 얻을 수 있습니다.\n",
        "- `4x2` 행렬과 `3x4` 행렬을 곱하는 것은 **_유효하지 않습니다_**."
      ]
    },
    {
      "cell_type": "code",
      "metadata": {
        "colab_type": "code",
        "id": "OVR8QPif-MeS",
        "colab": {
          "base_uri": "https://localhost:8080/",
          "height": 71
        },
        "outputId": "03785176-fc03-4b95-9bf6-38de2a88b25b"
      },
      "source": [
        "with tf.Graph().as_default():\n",
        "  x = tf.constant([[5,2,4,3], [5,1,5,-2], [-1,3,-1,-2]], dtype=tf.int32)\n",
        "  y = tf.constant([[2,2], [3,5], [4,5], [1,6]], dtype=tf.int32)\n",
        "  matrix_multiply_result = tf.matmul(x,y)\n",
        "\n",
        "  with tf.compat.v1.Session() as sess:\n",
        "    print(matrix_multiply_result.eval())"
      ],
      "execution_count": 7,
      "outputs": [
        {
          "output_type": "stream",
          "text": [
            "[[35 58]\n",
            " [31 28]\n",
            " [ 1 -4]]\n"
          ],
          "name": "stdout"
        }
      ]
    },
    {
      "cell_type": "markdown",
      "metadata": {
        "colab_type": "text",
        "id": "fziRnmuy-O9x"
      },
      "source": [
        " ## 텐서 형태 변경\n",
        "\n",
        "텐서 덧셈과 행렬 곱셈에서 각각 피연산자에 제약조건을 부여하면\n",
        "텐서플로우 프로그래머는 자주 텐서의 형태를 변경해야 합니다. \n",
        "\n",
        "`tf.reshape` 메서드를 사용하여 텐서의 형태를 변경할 수 있습니다. \n",
        "예를 들어 8x2 텐서를 2x8 텐서나 4x4 텐서로 형태를 변경할 수 있습니다."
      ]
    },
    {
      "cell_type": "code",
      "metadata": {
        "colab_type": "code",
        "id": "L05ob6a_G77m",
        "colab": {
          "base_uri": "https://localhost:8080/",
          "height": 323
        },
        "outputId": "7dcfd8dd-f412-4bb2-ce8c-399a35668a9b"
      },
      "source": [
        "with tf.Graph().as_default():\n",
        "  matrix = tf.constant([[1,2,], [3,4], [5,6], [7,8], [9,10], [11,12], [13,14], [15,16]], dtype=tf.int32)\n",
        "\n",
        "  reshaped_2x8_matrix = tf.reshape(matrix, [2,8])\n",
        "  reshaped_4x4_matrix = tf.reshape(matrix, [4,4])\n",
        "\n",
        "  with tf.compat.v1.Session() as sess:\n",
        "    print(\"Original matrix (8x2):\")\n",
        "    print(matrix.eval())\n",
        "    print(\"Reshaped matrix (2x8):\")\n",
        "    print(reshaped_2x8_matrix.eval())\n",
        "    print(\"Reshaped matrix (4x4):\")\n",
        "    print(reshaped_4x4_matrix.eval())"
      ],
      "execution_count": 9,
      "outputs": [
        {
          "output_type": "stream",
          "text": [
            "Original matrix (8x2):\n",
            "[[ 1  2]\n",
            " [ 3  4]\n",
            " [ 5  6]\n",
            " [ 7  8]\n",
            " [ 9 10]\n",
            " [11 12]\n",
            " [13 14]\n",
            " [15 16]]\n",
            "Reshaped matrix (2x8):\n",
            "[[ 1  2  3  4  5  6  7  8]\n",
            " [ 9 10 11 12 13 14 15 16]]\n",
            "Reshaped matrix (4x4):\n",
            "[[ 1  2  3  4]\n",
            " [ 5  6  7  8]\n",
            " [ 9 10 11 12]\n",
            " [13 14 15 16]]\n"
          ],
          "name": "stdout"
        }
      ]
    },
    {
      "cell_type": "markdown",
      "metadata": {
        "colab_type": "text",
        "id": "b6cFa92YGyU5"
      },
      "source": [
        " \n",
        "또한 `tf.reshape`를 사용하여 텐서의 차원 수(\\'순위\\')를 변경할 수도 있습니다.\n",
        "예를 들어 8x2 텐서를 3-D 2x2x4 텐서나 1-D 16-요소 텐서로 변경할 수 있습니다."
      ]
    },
    {
      "cell_type": "code",
      "metadata": {
        "colab_type": "code",
        "id": "3MpcwWj9-Sqp",
        "colab": {
          "base_uri": "https://localhost:8080/",
          "height": 323
        },
        "outputId": "3face8e3-72de-4567-8c03-00e34758b235"
      },
      "source": [
        "with tf.Graph().as_default():\n",
        "  matrix = tf.constant([[1,2,], [3,4], [5,6], [7,8], [9,10], [11,12], [13,14], [15,16]], dtype=tf.int32)\n",
        "\n",
        "  reshaped_2x2x4_tensor = tf.reshape(matrix, [2,2,4])\n",
        "  reshaped_1d_vector = tf.reshape(matrix, [16])\n",
        "\n",
        "  with tf.compat.v1.Session() as sess:\n",
        "    print(\"Original matrix (8x2):\")\n",
        "    print(matrix.eval())\n",
        "    print(\"Reshaped 3-D tensor (2x2x4):\")\n",
        "    print(reshaped_2x2x4_tensor.eval())\n",
        "    print(\"1-D vector:\")\n",
        "    print(reshaped_1d_vector.eval())"
      ],
      "execution_count": 11,
      "outputs": [
        {
          "output_type": "stream",
          "text": [
            "Original matrix (8x2):\n",
            "[[ 1  2]\n",
            " [ 3  4]\n",
            " [ 5  6]\n",
            " [ 7  8]\n",
            " [ 9 10]\n",
            " [11 12]\n",
            " [13 14]\n",
            " [15 16]]\n",
            "Reshaped 3-D tensor (2x2x4):\n",
            "[[[ 1  2  3  4]\n",
            "  [ 5  6  7  8]]\n",
            "\n",
            " [[ 9 10 11 12]\n",
            "  [13 14 15 16]]]\n",
            "1-D vector:\n",
            "[ 1  2  3  4  5  6  7  8  9 10 11 12 13 14 15 16]\n"
          ],
          "name": "stdout"
        }
      ]
    },
    {
      "cell_type": "markdown",
      "metadata": {
        "colab_type": "text",
        "id": "CrpowaWo-VLq"
      },
      "source": [
        " ### 실습 #1: 두 개의 텐서를 곱하기 위해 두 텐서의 형태를 변경합니다.\n",
        "\n",
        "다음 두 벡터는 행렬 곱셈과 호환되지 않습니다.\n",
        "\n",
        "  *  `a = tf.constant([5, 3, 2, 7, 1, 4])`\n",
        "  *  `b = tf.constant([4, 6, 3])`\n",
        "\n",
        "이 벡터를 행렬 곱셈에 호환될 수 있는 피연산자로 형태를 변경하세요.\n",
        "그런 다음 형태가 변경된 텐서에서 행렬 곱셈 작업을 호출하세요."
      ]
    },
    {
      "cell_type": "code",
      "metadata": {
        "colab_type": "code",
        "id": "p6idvaeK-Zxq",
        "colab": {
          "base_uri": "https://localhost:8080/",
          "height": 233
        },
        "outputId": "df1a7c79-04c9-4c6c-ac68-fa916f1281a2"
      },
      "source": [
        "with tf.Graph().as_default():\n",
        "  a = tf.constant([5, 3, 2, 7, 1, 4], dtype=tf.int32)\n",
        "  b = tf.constant([4, 6, 3], dtype=tf.int32)\n",
        "\n",
        "  reshaped_a = tf.reshape(a, [6,1])\n",
        "  a_mult_b = tf.math.multiply(reshaped_a, b)\n",
        "\n",
        "  with tf.compat.v1.Session() as sess:\n",
        "    print(reshaped_a.eval())\n",
        "    print(a_mult_b.eval())"
      ],
      "execution_count": 18,
      "outputs": [
        {
          "output_type": "stream",
          "text": [
            "[[5]\n",
            " [3]\n",
            " [2]\n",
            " [7]\n",
            " [1]\n",
            " [4]]\n",
            "[[20 30 15]\n",
            " [12 18  9]\n",
            " [ 8 12  6]\n",
            " [28 42 21]\n",
            " [ 4  6  3]\n",
            " [16 24 12]]\n"
          ],
          "name": "stdout"
        }
      ]
    },
    {
      "cell_type": "markdown",
      "metadata": {
        "colab_type": "text",
        "id": "EYzU56M4MG_x"
      },
      "source": [
        " ### 해결 방법\n",
        "\n",
        "해결 방법을 보려면 아래를 클릭하세요."
      ]
    },
    {
      "cell_type": "code",
      "metadata": {
        "colab_type": "code",
        "id": "8Sef4d0SMMtk",
        "colab": {}
      },
      "source": [
        "with tf.Graph().as_default(), tf.Session() as sess:\n",
        "  # Task: Reshape two tensors in order to multiply them\n",
        "  \n",
        "  # Here are the original operands, which are incompatible\n",
        "  # for matrix multiplication:\n",
        "  a = tf.constant([5, 3, 2, 7, 1, 4])\n",
        "  b = tf.constant([4, 6, 3])\n",
        "  # We need to reshape at least one of these operands so that\n",
        "  # the number of columns in the first operand equals the number\n",
        "  # of rows in the second operand.\n",
        "\n",
        "  # Reshape vector \"a\" into a 2-D 2x3 matrix:\n",
        "  reshaped_a = tf.reshape(a, [2,3])\n",
        "\n",
        "  # Reshape vector \"b\" into a 2-D 3x1 matrix:\n",
        "  reshaped_b = tf.reshape(b, [3,1])\n",
        "\n",
        "  # The number of columns in the first matrix now equals\n",
        "  # the number of rows in the second matrix. Therefore, you\n",
        "  # can matrix mutiply the two operands.\n",
        "  c = tf.matmul(reshaped_a, reshaped_b)\n",
        "  print(c.eval())\n",
        "\n",
        "  # An alternate approach: [6,1] x [1, 3] -> [6,3]"
      ],
      "execution_count": null,
      "outputs": []
    },
    {
      "cell_type": "markdown",
      "metadata": {
        "colab_type": "text",
        "id": "x1JYo7iE2oKk"
      },
      "source": [
        " ## 변수, 초기화, 할당\n",
        "\n",
        "지금까지 수행한 모든 연산은 정적 값(`tf.constant`)에서 실행되었고; `eval()`을 호출하면 항상 같은 결과가 반환되었습니다. 텐서플로우에서는 `변수` 객체를 정의할 수 있으며, 변수 값은 변경할 수 있습니다. \n",
        "\n",
        "변수를 만들 때 초기 값을 명시적으로 설정하거나 이니셜라이저(예: 분포)를 사용할 수 있습니다."
      ]
    },
    {
      "cell_type": "code",
      "metadata": {
        "colab_type": "code",
        "id": "6opLnjfD3PdL",
        "colab": {}
      },
      "source": [
        "g = tf.Graph()\n",
        "with g.as_default():\n",
        "  v = tf.Variable([3])\n",
        "\n",
        "  w = tf.Variable(tf.random.normal([1], mean=1.0, stddev=0.35))\n",
        "  \n",
        "#  with tf.compat.v1.Session() as sess:\n",
        "#    print(w.eval())"
      ],
      "execution_count": 48,
      "outputs": []
    },
    {
      "cell_type": "markdown",
      "metadata": {
        "colab_type": "text",
        "id": "qDYRXHTA4PTB"
      },
      "source": [
        " 텐서플로우의 한 가지 특징은 **변수 초기화가 자동으로 실행되지 않는다**는 것입니다. 예를 들어 다음 블록에서는 오류가 발생합니다."
      ]
    },
    {
      "cell_type": "code",
      "metadata": {
        "colab_type": "code",
        "id": "d0OX1YRY5PTP",
        "colab": {
          "base_uri": "https://localhost:8080/",
          "height": 1000
        },
        "outputId": "36de5ed1-8509-4c12-f9ff-4f0253b292ec"
      },
      "source": [
        "with g.as_default():\n",
        "  with tf.compat.v1.Session() as sess:\n",
        "    try:\n",
        "      v.eval()\n",
        "    except tf.errors.FailedPreconditionError as e:\n",
        "      print(\"Caught expected error: \", e)"
      ],
      "execution_count": 56,
      "outputs": [
        {
          "output_type": "stream",
          "text": [
            "Caught expected error:  Error while reading resource variable Variable from Container: localhost. This could mean that the variable was uninitialized. Not found: Container localhost does not exist. (Could not find resource: localhost/Variable)\n",
            "\t [[node Variable/Read/ReadVariableOp (defined at <ipython-input-48-b95bffeac58e>:3) ]]\n",
            "\n",
            "Original stack trace for 'Variable/Read/ReadVariableOp':\n",
            "  File \"/usr/lib/python3.6/runpy.py\", line 193, in _run_module_as_main\n",
            "    \"__main__\", mod_spec)\n",
            "  File \"/usr/lib/python3.6/runpy.py\", line 85, in _run_code\n",
            "    exec(code, run_globals)\n",
            "  File \"/usr/local/lib/python3.6/dist-packages/ipykernel_launcher.py\", line 16, in <module>\n",
            "    app.launch_new_instance()\n",
            "  File \"/usr/local/lib/python3.6/dist-packages/traitlets/config/application.py\", line 664, in launch_instance\n",
            "    app.start()\n",
            "  File \"/usr/local/lib/python3.6/dist-packages/ipykernel/kernelapp.py\", line 499, in start\n",
            "    self.io_loop.start()\n",
            "  File \"/usr/local/lib/python3.6/dist-packages/tornado/platform/asyncio.py\", line 132, in start\n",
            "    self.asyncio_loop.run_forever()\n",
            "  File \"/usr/lib/python3.6/asyncio/base_events.py\", line 438, in run_forever\n",
            "    self._run_once()\n",
            "  File \"/usr/lib/python3.6/asyncio/base_events.py\", line 1451, in _run_once\n",
            "    handle._run()\n",
            "  File \"/usr/lib/python3.6/asyncio/events.py\", line 145, in _run\n",
            "    self._callback(*self._args)\n",
            "  File \"/usr/local/lib/python3.6/dist-packages/tornado/platform/asyncio.py\", line 122, in _handle_events\n",
            "    handler_func(fileobj, events)\n",
            "  File \"/usr/local/lib/python3.6/dist-packages/tornado/stack_context.py\", line 300, in null_wrapper\n",
            "    return fn(*args, **kwargs)\n",
            "  File \"/usr/local/lib/python3.6/dist-packages/zmq/eventloop/zmqstream.py\", line 462, in _handle_events\n",
            "    self._handle_recv()\n",
            "  File \"/usr/local/lib/python3.6/dist-packages/zmq/eventloop/zmqstream.py\", line 492, in _handle_recv\n",
            "    self._run_callback(callback, msg)\n",
            "  File \"/usr/local/lib/python3.6/dist-packages/zmq/eventloop/zmqstream.py\", line 444, in _run_callback\n",
            "    callback(*args, **kwargs)\n",
            "  File \"/usr/local/lib/python3.6/dist-packages/tornado/stack_context.py\", line 300, in null_wrapper\n",
            "    return fn(*args, **kwargs)\n",
            "  File \"/usr/local/lib/python3.6/dist-packages/ipykernel/kernelbase.py\", line 283, in dispatcher\n",
            "    return self.dispatch_shell(stream, msg)\n",
            "  File \"/usr/local/lib/python3.6/dist-packages/ipykernel/kernelbase.py\", line 233, in dispatch_shell\n",
            "    handler(stream, idents, msg)\n",
            "  File \"/usr/local/lib/python3.6/dist-packages/ipykernel/kernelbase.py\", line 399, in execute_request\n",
            "    user_expressions, allow_stdin)\n",
            "  File \"/usr/local/lib/python3.6/dist-packages/ipykernel/ipkernel.py\", line 208, in do_execute\n",
            "    res = shell.run_cell(code, store_history=store_history, silent=silent)\n",
            "  File \"/usr/local/lib/python3.6/dist-packages/ipykernel/zmqshell.py\", line 537, in run_cell\n",
            "    return super(ZMQInteractiveShell, self).run_cell(*args, **kwargs)\n",
            "  File \"/usr/local/lib/python3.6/dist-packages/IPython/core/interactiveshell.py\", line 2718, in run_cell\n",
            "    interactivity=interactivity, compiler=compiler, result=result)\n",
            "  File \"/usr/local/lib/python3.6/dist-packages/IPython/core/interactiveshell.py\", line 2822, in run_ast_nodes\n",
            "    if self.run_code(code, result):\n",
            "  File \"/usr/local/lib/python3.6/dist-packages/IPython/core/interactiveshell.py\", line 2882, in run_code\n",
            "    exec(code_obj, self.user_global_ns, self.user_ns)\n",
            "  File \"<ipython-input-48-b95bffeac58e>\", line 3, in <module>\n",
            "    v = tf.Variable([3])\n",
            "  File \"/usr/local/lib/python3.6/dist-packages/tensorflow/python/ops/variables.py\", line 262, in __call__\n",
            "    return cls._variable_v2_call(*args, **kwargs)\n",
            "  File \"/usr/local/lib/python3.6/dist-packages/tensorflow/python/ops/variables.py\", line 256, in _variable_v2_call\n",
            "    shape=shape)\n",
            "  File \"/usr/local/lib/python3.6/dist-packages/tensorflow/python/ops/variables.py\", line 237, in <lambda>\n",
            "    previous_getter = lambda **kws: default_variable_creator_v2(None, **kws)\n",
            "  File \"/usr/local/lib/python3.6/dist-packages/tensorflow/python/ops/variable_scope.py\", line 2646, in default_variable_creator_v2\n",
            "    shape=shape)\n",
            "  File \"/usr/local/lib/python3.6/dist-packages/tensorflow/python/ops/variables.py\", line 264, in __call__\n",
            "    return super(VariableMetaclass, cls).__call__(*args, **kwargs)\n",
            "  File \"/usr/local/lib/python3.6/dist-packages/tensorflow/python/ops/resource_variable_ops.py\", line 1518, in __init__\n",
            "    distribute_strategy=distribute_strategy)\n",
            "  File \"/usr/local/lib/python3.6/dist-packages/tensorflow/python/ops/resource_variable_ops.py\", line 1701, in _init_from_args\n",
            "    value = gen_resource_variable_ops.read_variable_op(handle, dtype)\n",
            "  File \"/usr/local/lib/python3.6/dist-packages/tensorflow/python/ops/gen_resource_variable_ops.py\", line 491, in read_variable_op\n",
            "    \"ReadVariableOp\", resource=resource, dtype=dtype, name=name)\n",
            "  File \"/usr/local/lib/python3.6/dist-packages/tensorflow/python/framework/op_def_library.py\", line 744, in _apply_op_helper\n",
            "    attrs=attr_protos, op_def=op_def)\n",
            "  File \"/usr/local/lib/python3.6/dist-packages/tensorflow/python/framework/ops.py\", line 3485, in _create_op_internal\n",
            "    op_def=op_def)\n",
            "  File \"/usr/local/lib/python3.6/dist-packages/tensorflow/python/framework/ops.py\", line 1949, in __init__\n",
            "    self._traceback = tf_stack.extract_stack()\n",
            "\n"
          ],
          "name": "stdout"
        }
      ]
    },
    {
      "cell_type": "markdown",
      "metadata": {
        "colab_type": "text",
        "id": "v7_aT7Hr5rnC"
      },
      "source": [
        " 변수를 초기화하는 가장 쉬운 방법은 `global_variables_initializer`를 호출하는 것입니다. `eval()`과 거의 비슷한 `Session.run()`의 사용을 참고하세요."
      ]
    },
    {
      "cell_type": "code",
      "metadata": {
        "colab_type": "code",
        "id": "z2lvhrxI5zJF",
        "colab": {
          "base_uri": "https://localhost:8080/",
          "height": 53
        },
        "outputId": "c53eedab-0205-4640-959e-4c243db25f89"
      },
      "source": [
        "with g.as_default():\n",
        "  with tf.compat.v1.Session() as sess:\n",
        "    initialization = tf.compat.v1.global_variables_initializer()\n",
        "    sess.run(initialization)\n",
        "    print(v.eval())\n",
        "    print(w.eval())"
      ],
      "execution_count": 50,
      "outputs": [
        {
          "output_type": "stream",
          "text": [
            "[3]\n",
            "[1.3380731]\n"
          ],
          "name": "stdout"
        }
      ]
    },
    {
      "cell_type": "markdown",
      "metadata": {
        "colab_type": "text",
        "id": "0GkYh7jf6JUd"
      },
      "source": [
        " 초기화된 변수는 같은 세션 내에서는 값을 유지합니다. 하지만 새 세션을 시작하면 다시 초기화해야 합니다."
      ]
    },
    {
      "cell_type": "code",
      "metadata": {
        "colab_type": "code",
        "id": "_E8_lhS06IoV",
        "colab": {
          "base_uri": "https://localhost:8080/",
          "height": 71
        },
        "outputId": "8447467b-9907-401f-ae51-925145e4a0c2"
      },
      "source": [
        "with g.as_default():\n",
        "  with tf.compat.v1.Session() as sess:\n",
        "    sess.run(tf.compat.v1.global_variables_initializer())\n",
        "    print(w.eval())\n",
        "    print(w.eval())\n",
        "    print(w.eval())"
      ],
      "execution_count": 51,
      "outputs": [
        {
          "output_type": "stream",
          "text": [
            "[0.83904636]\n",
            "[0.83904636]\n",
            "[0.83904636]\n"
          ],
          "name": "stdout"
        }
      ]
    },
    {
      "cell_type": "markdown",
      "metadata": {
        "colab_type": "text",
        "id": "yrZ31hPw66uy"
      },
      "source": [
        " 변수 값을 변경하려면 `할당` 작업을 사용합니다. `할당` 작업을 만들기만 하면 실행되는 것은 아닙니다. 초기화와 마찬가지로 할당 작업을 `실행`해야 변수 값이 업데이트됩니다."
      ]
    },
    {
      "cell_type": "code",
      "metadata": {
        "colab_type": "code",
        "id": "zD0D1DCR7NBX",
        "colab": {
          "base_uri": "https://localhost:8080/",
          "height": 71
        },
        "outputId": "f2da32aa-dbae-45b7-a1a8-79fb443717c3"
      },
      "source": [
        "with g.as_default():\n",
        "  with tf.compat.v1.Session() as sess:\n",
        "    sess.run(tf.compat.v1.global_variables_initializer())\n",
        "    print(v.eval())\n",
        "\n",
        "    assignment = tf.compat.v1.assign(v, [7])\n",
        "    print(v.eval())\n",
        "\n",
        "    sess.run(assignment)\n",
        "    print(v.eval())"
      ],
      "execution_count": 52,
      "outputs": [
        {
          "output_type": "stream",
          "text": [
            "[3]\n",
            "[3]\n",
            "[7]\n"
          ],
          "name": "stdout"
        }
      ]
    },
    {
      "cell_type": "markdown",
      "metadata": {
        "colab_type": "text",
        "id": "tB78Zq4h78Zr"
      },
      "source": [
        " 로드 및 저장과 같이 여기에서 다루지 않은 변수에 관한 주제도 더 많이 있습니다. 자세히 알아보려면 [텐서플로우 문서](https://www.tensorflow.org/programmers_guide/variables)를 참조하세요."
      ]
    },
    {
      "cell_type": "markdown",
      "metadata": {
        "colab_type": "text",
        "id": "iFIOcnfz_Oqw"
      },
      "source": [
        " ### 실습 #2: 주사위 2개 10번 굴리기를 시뮬레이션합니다.\n",
        "\n",
        "주사위 시뮬레이션을 만듭니다. 여기에서 `10x3` 2-D 텐서를 생성하며 조건은 다음과 같습니다.\n",
        "\n",
        "  * 열 `1` 및 `2`는 각각 주사위 1개를 1번 던졌을 때의 값입니다.\n",
        "  * 열 `3`은 같은 줄의 열 `1`과 `2`의 합입니다.\n",
        "\n",
        "예를 들어 첫 번째 행의 값은 다음과 같을 수 있습니다.\n",
        "\n",
        "  * 열 `1`은 `4`\n",
        "  * 열 `2`는 `3`\n",
        "  * 열 `3`은 `7`\n",
        "\n",
        "[텐서플로우 문서](https://www.tensorflow.org/api_guides/python/array_ops)를 참조하여 이 문제를 해결해 보세요."
      ]
    },
    {
      "cell_type": "code",
      "metadata": {
        "colab_type": "code",
        "id": "ocwT0iXH-nhT",
        "colab": {
          "base_uri": "https://localhost:8080/",
          "height": 71
        },
        "outputId": "096737d1-528e-4067-d6e6-b11f6fd4be0e"
      },
      "source": [
        "g=tf.Graph()\n",
        "with g.as_default():\n",
        "  col_1 = tf.Variable(tf.random.uniform([10], minval=1, maxval=6, dtype=tf.int32))\n",
        "  col_2 = tf.Variable(tf.random.uniform([10], minval=1, maxval=6, dtype=tf.int32))\n",
        "  col_3 = tf.add(col_1, col_2)\n",
        "  matrix = tf.stack([col_1, col_2, col_3])\n",
        "\n",
        "  with tf.compat.v1.Session() as sess:\n",
        "    initialization = tf.compat.v1.global_variables_initializer()\n",
        "    sess.run(initialization)\n",
        "\n",
        "    print(matrix.eval())"
      ],
      "execution_count": 57,
      "outputs": [
        {
          "output_type": "stream",
          "text": [
            "[[ 4  3  1  2  1  5  5  5  5  3]\n",
            " [ 3  2  5  2  3  5  2  5  2  2]\n",
            " [ 7  5  6  4  4 10  7 10  7  5]]\n"
          ],
          "name": "stdout"
        }
      ]
    },
    {
      "cell_type": "markdown",
      "metadata": {
        "colab_type": "text",
        "id": "Kt7aojXkR_qS"
      },
      "source": [
        " ### 해결 방법\n",
        "\n",
        "해결 방법을 보려면 아래를 클릭하세요."
      ]
    },
    {
      "cell_type": "code",
      "metadata": {
        "colab_type": "code",
        "id": "6UUluecQSCvr",
        "colab": {}
      },
      "source": [
        "with tf.Graph().as_default(), tf.Session() as sess:\n",
        "  # Task 2: Simulate 10 throws of two dice. Store the results\n",
        "  # in a 10x3 matrix.\n",
        "\n",
        "  # We're going to place dice throws inside two separate\n",
        "  # 10x1 matrices. We could have placed dice throws inside\n",
        "  # a single 10x2 matrix, but adding different columns of\n",
        "  # the same matrix is tricky. We also could have placed\n",
        "  # dice throws inside two 1-D tensors (vectors); doing so\n",
        "  # would require transposing the result.\n",
        "  dice1 = tf.Variable(tf.random_uniform([10, 1],\n",
        "                                        minval=1, maxval=7,\n",
        "                                        dtype=tf.int32))\n",
        "  dice2 = tf.Variable(tf.random_uniform([10, 1],\n",
        "                                        minval=1, maxval=7,\n",
        "                                        dtype=tf.int32))\n",
        "\n",
        "  # We may add dice1 and dice2 since they share the same shape\n",
        "  # and size.\n",
        "  dice_sum = tf.add(dice1, dice2)\n",
        "\n",
        "  # We've got three separate 10x1 matrices. To produce a single\n",
        "  # 10x3 matrix, we'll concatenate them along dimension 1.\n",
        "  resulting_matrix = tf.concat(\n",
        "      values=[dice1, dice2, dice_sum], axis=1)\n",
        "\n",
        "  # The variables haven't been initialized within the graph yet,\n",
        "  # so let's remedy that.\n",
        "  sess.run(tf.global_variables_initializer())\n",
        "\n",
        "  print(resulting_matrix.eval())"
      ],
      "execution_count": null,
      "outputs": []
    }
  ]
}